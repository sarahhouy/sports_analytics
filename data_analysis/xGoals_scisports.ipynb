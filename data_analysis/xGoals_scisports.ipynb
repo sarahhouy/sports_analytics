{
 "cells": [
  {
   "cell_type": "markdown",
   "id": "b9358e55",
   "metadata": {},
   "source": [
    "# xGoals\n",
    "\n",
    "Initial version created: 05/02/2023\n",
    "\n",
    "In this notebook, a xGoals model is developed using shots data from SciSports. The following variables are used to predict the probability of a shot resulting in a goal:\n",
    "* body part with which the shot was taken\n",
    "* x coordinate for the location where the action started\n",
    "* y coordinate for the location where the action started\n",
    "* angle between shot location and goal posts\n",
    "* distance between shot location and goal\n",
    "\n",
    "The model is limited in that it lacks features that have been proven to significantly impact the probability of a shot resulting in a goal, such as, for example, the height of the ball when the shot was taken, the position of defenders and the goalkeeper."
   ]
  },
  {
   "cell_type": "code",
   "execution_count": 2,
   "id": "feae6098",
   "metadata": {},
   "outputs": [],
   "source": [
    "# Importing relevant libraries\n",
    "import os\n",
    "import pyarrow\n",
    "import pandas as pd\n",
    "import numpy as np\n",
    "import matplotlib.pyplot as plt\n",
    "\n",
    "from scipy.spatial import distance\n",
    "from math import atan2, pi\n",
    "from sklearn.model_selection import RandomizedSearchCV, train_test_split\n",
    "from xgboost import XGBClassifier, plot_importance\n",
    "from sklearn.metrics import average_precision_score, roc_auc_score\n",
    "from scikitplot.metrics import plot_precision_recall_curve, plot_roc_curve"
   ]
  },
  {
   "cell_type": "markdown",
   "id": "f29b64f4",
   "metadata": {},
   "source": [
    "## Read data"
   ]
  },
  {
   "cell_type": "code",
   "execution_count": 5,
   "id": "2d8cba04",
   "metadata": {},
   "outputs": [],
   "source": [
    "path = os.path.abspath(os.path.join(os.sep, os.getcwd(), os.pardir, 'ssda-how-to-expected-goals/data', 'scisports-shots.parquet'))\n",
    "df_shots = pd.read_parquet(path,engine='pyarrow')"
   ]
  },
  {
   "cell_type": "markdown",
   "id": "05a8fea1",
   "metadata": {},
   "source": [
    "## Data pre-processing"
   ]
  },
  {
   "cell_type": "markdown",
   "id": "7ff2c49f",
   "metadata": {},
   "source": [
    "### Normalize the location features"
   ]
  },
  {
   "cell_type": "code",
   "execution_count": 6,
   "id": "7adbab01",
   "metadata": {},
   "outputs": [],
   "source": [
    "# normalizing the location features\n",
    "for action in ['action','action1']:\n",
    "    for side in ['start', 'end']:\n",
    "        \n",
    "        # Normalize the X location\n",
    "        key_x = '{}_{}_x'.format(action, side)\n",
    "        df_shots[key_x] = df_shots[key_x] / 105\n",
    "               \n",
    "        # Normalize the Y location\n",
    "        key_y = '{}_{}_y'.format(action, side)\n",
    "        df_shots[key_y] = df_shots[key_y] / 68"
   ]
  },
  {
   "cell_type": "code",
   "execution_count": 4,
   "id": "4632f6b9",
   "metadata": {},
   "outputs": [],
   "source": [
    "# Normalized location for the center of the opposing goal\n",
    "goal = (1, 0.5)\n",
    "\n",
    "# Normalized location for the goal posts\n",
    "left_post = (1,0.45)\n",
    "right_post = (1,0.55)"
   ]
  },
  {
   "cell_type": "markdown",
   "id": "a2d5b96d",
   "metadata": {},
   "source": [
    "### Calculate additional features"
   ]
  },
  {
   "cell_type": "code",
   "execution_count": 5,
   "id": "eca718ba",
   "metadata": {
    "scrolled": true
   },
   "outputs": [],
   "source": [
    "for action in ['action']:\n",
    "    key_start_x = f\"{action}_start_x\"\n",
    "    key_start_y = f\"{action}_start_y\"\n",
    "    key_start_distance = f\"{action}_start_distance\"\n",
    "\n",
    "    # Calculating the distances between shot starting point and center of opposing goal\n",
    "    df_shots[key_start_distance] = df_shots.apply(lambda s: distance.euclidean([s[key_start_x]], [s[key_start_y]], goal), axis=1)"
   ]
  },
  {
   "cell_type": "code",
   "execution_count": 6,
   "id": "b9ec2ccb",
   "metadata": {},
   "outputs": [],
   "source": [
    "# Calculating the angle between shot position and goal posts\n",
    "# TODO: outsource function to lib file\n",
    "def rad_to_deg(rad):\n",
    "    return rad * 180 / pi\n",
    "\n",
    "def coords_angle(action_start_x, action_start_y):\n",
    "    angle_1 = atan2(left_post[1] - action_start_y, left_post[0] - action_start_x)\n",
    "    angle_2 = atan2(right_post[1] - action_start_y, right_post[0] - action_start_x)\n",
    "    # laut discord-Hilfe: angle_1 - angle_2 > Ergebnisse sehen komisch aus\n",
    "    angle = rad_to_deg(angle_2 - angle_1)\n",
    "    return (angle + 360) if angle < 0 else angle\n",
    "\n",
    "df_shots['angle'] = df_shots[['action_start_x','action_start_y']].apply( lambda row : coords_angle(row.action_start_x,row.action_start_y) , axis = 1)"
   ]
  },
  {
   "cell_type": "markdown",
   "id": "e8da5794",
   "metadata": {},
   "source": [
    "### Construct the dataset for the model"
   ]
  },
  {
   "cell_type": "code",
   "execution_count": 7,
   "id": "39f99f03",
   "metadata": {},
   "outputs": [],
   "source": [
    "# Features\n",
    "columns_features = ['action_start_x', 'action_start_y', 'action_body_part_id', 'action_start_distance', 'angle']\n",
    "# Label: 1 if a goal, 0 otherwise\n",
    "column_target = 'action_result'"
   ]
  },
  {
   "cell_type": "code",
   "execution_count": 8,
   "id": "a7ef61f2",
   "metadata": {},
   "outputs": [],
   "source": [
    "# Define X and y to use in the model\n",
    "X = df_shots[columns_features]\n",
    "y = df_shots[column_target]"
   ]
  },
  {
   "cell_type": "markdown",
   "id": "bbdf485b",
   "metadata": {},
   "source": [
    "### Split dataset into train and test set"
   ]
  },
  {
   "cell_type": "code",
   "execution_count": 9,
   "id": "eea91718",
   "metadata": {},
   "outputs": [],
   "source": [
    "# The model is trained on 80% of the data and evaluated on the remaining 20%\n",
    "X_train, X_test, y_train, y_test = train_test_split(X, y, test_size=0.20)"
   ]
  },
  {
   "cell_type": "markdown",
   "id": "2a268109",
   "metadata": {},
   "source": [
    "## Train the model"
   ]
  },
  {
   "cell_type": "code",
   "execution_count": 11,
   "id": "995a7054",
   "metadata": {},
   "outputs": [
    {
     "name": "stdout",
     "output_type": "stream",
     "text": [
      "Fitting 5 folds for each of 20 candidates, totalling 100 fits\n",
      "Best hyperparameters found by RandomizedSearchCV: {'subsample': 0.5, 'n_estimators': 1000, 'max_depth': 5, 'learning_rate': 0.01, 'colsample_bytree': 0.5, 'colsample_bylevel': 0.5}\n"
     ]
    }
   ],
   "source": [
    "# Define parameters for the model\n",
    "params = { 'max_depth': [3, 5, 6],\n",
    "           'learning_rate': [0.01, 0.1, 0.3],\n",
    "           'subsample': np.arange(0.5, 0.9),\n",
    "           'colsample_bytree': np.arange(0.5, 0.9),\n",
    "           'colsample_bylevel': np.arange(0.5, 0.9),\n",
    "           'n_estimators': [100, 500, 1000]}\n",
    "\n",
    "# Define classifier\n",
    "classifier = XGBClassifier()\n",
    "\n",
    "# Use Random Search to optimize hyperparameters\n",
    "model = RandomizedSearchCV(estimator=classifier,\n",
    "                         param_distributions=params,\n",
    "                         scoring='roc_auc',\n",
    "                         n_iter=20,\n",
    "                         verbose=1)\n",
    "\n",
    "# Fit model\n",
    "model.fit(X_train, y_train)\n",
    "\n",
    "# Print the best hyperparameters found\n",
    "print(f\"Best hyperparameters found by RandomizedSearchCV: {model.best_params_}\")"
   ]
  },
  {
   "cell_type": "markdown",
   "id": "0e160cad",
   "metadata": {},
   "source": [
    "## Evaluate the model"
   ]
  },
  {
   "cell_type": "code",
   "execution_count": 14,
   "id": "6e23c21d",
   "metadata": {},
   "outputs": [],
   "source": [
    "# Predict probability of each shot resulting in a goal\n",
    "y_pred = model.predict_proba(X_test)"
   ]
  },
  {
   "cell_type": "code",
   "execution_count": 15,
   "id": "30ec7ffc",
   "metadata": {},
   "outputs": [
    {
     "name": "stdout",
     "output_type": "stream",
     "text": [
      "10807 examples of 102114 of the training set are positives.\n"
     ]
    }
   ],
   "source": [
    "# Count total and positives\n",
    "y_total = y_train.count()\n",
    "y_positive = y_train.sum()\n",
    "\n",
    "print('{} examples of {} of the training set are positives.'.format(y_positive, y_total))"
   ]
  },
  {
   "cell_type": "markdown",
   "id": "389019e5",
   "metadata": {},
   "source": [
    "The ratio of positives in the training set indicates that the data is rather imbalanced. That is, the AUC-PR and ROC-AUC scores are calculated as they are particularly useful for imbalanced classes."
   ]
  },
  {
   "cell_type": "markdown",
   "id": "b5438017",
   "metadata": {},
   "source": [
    "### Calculate PR AUC score"
   ]
  },
  {
   "cell_type": "code",
   "execution_count": 17,
   "id": "fff6e967",
   "metadata": {},
   "outputs": [
    {
     "name": "stdout",
     "output_type": "stream",
     "text": [
      "The classifier obtains an AUC-PR of 0.33336180193524034.\n"
     ]
    }
   ],
   "source": [
    "auc_pr = average_precision_score(y_test, y_pred[:, 1])\n",
    "\n",
    "print('The classifier obtains an AUC-PR of {}.'.format(auc_pr))"
   ]
  },
  {
   "cell_type": "markdown",
   "id": "6e2ab785",
   "metadata": {},
   "source": [
    "### Plot PR AUC curve"
   ]
  },
  {
   "cell_type": "code",
   "execution_count": 30,
   "id": "82d505c0",
   "metadata": {},
   "outputs": [
    {
     "name": "stderr",
     "output_type": "stream",
     "text": [
      "/Users/Sarah/opt/anaconda3/lib/python3.9/site-packages/sklearn/utils/deprecation.py:87: FutureWarning: Function plot_precision_recall_curve is deprecated; This will be removed in v0.5.0. Please use scikitplot.metrics.plot_precision_recall instead.\n",
      "  warnings.warn(msg, category=FutureWarning)\n"
     ]
    },
    {
     "data": {
      "text/plain": [
       "<AxesSubplot:title={'center':'Precision-Recall Curve'}, xlabel='Recall', ylabel='Precision'>"
      ]
     },
     "execution_count": 30,
     "metadata": {},
     "output_type": "execute_result"
    },
    {
     "data": {
      "image/png": "[encoded data removed]",
      "text/plain": [
       "<Figure size 432x288 with 1 Axes>"
      ]
     },
     "metadata": {
      "needs_background": "light"
     },
     "output_type": "display_data"
    }
   ],
   "source": [
    "plot_precision_recall_curve(y_test, y_pred, curves='each_class')"
   ]
  },
  {
   "cell_type": "markdown",
   "id": "07bc2716",
   "metadata": {},
   "source": [
    "### Calculate ROC AUC score"
   ]
  },
  {
   "cell_type": "code",
   "execution_count": 29,
   "id": "9103a116",
   "metadata": {},
   "outputs": [
    {
     "name": "stdout",
     "output_type": "stream",
     "text": [
      "The classifier obtains an AUC-ROC of 0.7686847867823527.\n"
     ]
    }
   ],
   "source": [
    "auc_roc = roc_auc_score(y_test, y_pred[:, 1])\n",
    "\n",
    "print('The classifier obtains an AUC-ROC of {}.'.format(auc_roc))"
   ]
  },
  {
   "cell_type": "markdown",
   "id": "c1a92611",
   "metadata": {},
   "source": [
    "### Plot AUC-ROC curve"
   ]
  },
  {
   "cell_type": "code",
   "execution_count": 21,
   "id": "311280d2",
   "metadata": {},
   "outputs": [
    {
     "name": "stderr",
     "output_type": "stream",
     "text": [
      "/Users/Sarah/opt/anaconda3/lib/python3.9/site-packages/sklearn/utils/deprecation.py:87: FutureWarning: Function plot_roc_curve is deprecated; This will be removed in v0.5.0. Please use scikitplot.metrics.plot_roc instead.\n",
      "  warnings.warn(msg, category=FutureWarning)\n"
     ]
    },
    {
     "data": {
      "text/plain": [
       "<AxesSubplot:title={'center':'ROC Curves'}, xlabel='False Positive Rate', ylabel='True Positive Rate'>"
      ]
     },
     "execution_count": 21,
     "metadata": {},
     "output_type": "execute_result"
    },
    {
     "data": {
      "image/png": "[encoded data removed]",
      "text/plain": [
       "<Figure size 432x288 with 1 Axes>"
      ]
     },
     "metadata": {
      "needs_background": "light"
     },
     "output_type": "display_data"
    }
   ],
   "source": [
    "plot_roc_curve(y_test, y_pred, curves='each_class')"
   ]
  },
  {
   "cell_type": "markdown",
   "id": "74b13620",
   "metadata": {},
   "source": [
    "### Plot feature importance"
   ]
  },
  {
   "cell_type": "code",
   "execution_count": 36,
   "id": "b5a3dc49",
   "metadata": {},
   "outputs": [
    {
     "name": "stdout",
     "output_type": "stream",
     "text": [
      "Feature: action_start_x, Score: 0.24322\n",
      "Feature: action_start_y, Score: 0.11316\n",
      "Feature: action_body_part_id, Score: 0.29843\n",
      "Feature: action_start_distance, Score: 0.11273\n",
      "Feature: angle, Score: 0.23246\n"
     ]
    }
   ],
   "source": [
    "importance = model.best_estimator_.feature_importances_\n",
    "feature_names = X_train.columns\n",
    "for i,v in enumerate(importance):\n",
    "    print('Feature: %s, Score: %.5f' % (feature_names[i],v))"
   ]
  },
  {
   "cell_type": "code",
   "execution_count": 43,
   "id": "08f4334b",
   "metadata": {},
   "outputs": [
    {
     "data": {
      "image/png": "[encoded data removed]",
      "text/plain": [
       "<Figure size 432x288 with 1 Axes>"
      ]
     },
     "metadata": {
      "needs_background": "light"
     },
     "output_type": "display_data"
    }
   ],
   "source": [
    "importance_plot = model.best_estimator_.feature_importances_\n",
    "feature_names_plot = X_train.columns\n",
    "sorted_idx = importance.argsort() # sort indices in descending order\n",
    "\n",
    "plt.barh(feature_names[sorted_idx], importance[sorted_idx])\n",
    "plt.xlabel('Importance Score')\n",
    "plt.ylabel('Feature')\n",
    "plt.title('Feature Importance')\n",
    "\n",
    "# Add labels to the bars\n",
    "for i, v in enumerate(importance[sorted_idx]):\n",
    "    plt.text(v, i, \"  \" + str(round(v, 3)), color='black', va='center', fontweight='bold')\n",
    "\n",
    "plt.show()"
   ]
  }
 ],
 "metadata": {
  "kernelspec": {
   "display_name": "Python 3 (ipykernel)",
   "language": "python",
   "name": "python3"
  },
  "language_info": {
   "codemirror_mode": {
    "name": "ipython",
    "version": 3
   },
   "file_extension": ".py",
   "mimetype": "text/x-python",
   "name": "python",
   "nbconvert_exporter": "python",
   "pygments_lexer": "ipython3",
   "version": "3.9.12"
  }
 },
 "nbformat": 4,
 "nbformat_minor": 5
}
