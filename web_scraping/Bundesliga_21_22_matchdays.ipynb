{
 "cells": [
  {
   "cell_type": "markdown",
   "id": "11b56016",
   "metadata": {},
   "source": [
    "# Kicker Web Scraping\n",
    "\n",
    "This notebook scrapes all matchday tables from the 2021-22 Bundesliga season from __[Kicker](https://www.kicker.de/)__ using BeautifulSoup.\n",
    "The data is then cleaned and enriched by a column containing a link for each team's icon. The final data is saved to csv.\n",
    "\n",
    "Using the scraped data, a Tableau dashboard has been created showing a team's position on each of the 34 matchdays. The dashboard can be found on __[Tableau Public](https://public.tableau.com/app/profile/sarah.houy/viz/BundesligaSeason2122Review/Season_Review_Overview#1)__.\n"
   ]
  },
  {
   "cell_type": "code",
   "execution_count": null,
   "id": "264abb4e",
   "metadata": {},
   "outputs": [],
   "source": [
    "from bs4 import BeautifulSoup\n",
    "from pathlib import Path\n",
    "import pandas as pd\n",
    "import numpy as np\n",
    "import buli_icons_config"
   ]
  },
  {
   "cell_type": "markdown",
   "id": "54ea8244",
   "metadata": {},
   "source": [
    "### Scraping relevant data"
   ]
  },
  {
   "cell_type": "code",
   "execution_count": null,
   "id": "0cc0dbc8",
   "metadata": {
    "scrolled": true
   },
   "outputs": [],
   "source": [
    "df_tables = None # will contain data of all 34 matchday tables\n",
    "\n",
    "# Loop through every matchday\n",
    "for matchday in range(1, 35, 1):\n",
    "  # Get the \"table\" HTML elements that exist on the page:  \n",
    "  scrapper = pd.read_html('https://www.kicker.de/bundesliga/tabelle/2021-22/' + str(matchday))\n",
    "  \n",
    "  # The 0 position is the one that contains the desired data:       \n",
    "  for idx, table in enumerate(scrapper):\n",
    "    if (idx == 0): \n",
    "      # Remove certain columns that are not needed: \n",
    "      table = table.drop(table.columns[[1, 2, 5, 6, 7, 9]], axis=1)\n",
    "\n",
    "      if (df_tables is None): \n",
    "        df_tables = table\n",
    "      else: \n",
    "        df_tables = df_tables.append(table, ignore_index=True)"
   ]
  },
  {
   "cell_type": "markdown",
   "id": "f3682b85",
   "metadata": {},
   "source": [
    "### Data Cleaning"
   ]
  },
  {
   "cell_type": "code",
   "execution_count": null,
   "id": "98acefc9",
   "metadata": {},
   "outputs": [],
   "source": [
    "# Keep only the full team name\n",
    "team_cleaned = df_tables[\"Team\"].str.split(\"  \", n = 1, expand = True)\n",
    "\n",
    "# Replace team in df by team_cleaned\n",
    "df_tables[\"Team\"]= team_cleaned[1]\n",
    "\n",
    "# Split goals in goals scored and goals conceded and add them to df\n",
    "goals_split = df_tables[\"Tore\"].str.split(\":\", n = 1, expand = True)\n",
    "df_tables[\"Tore_erzielt\"] = goals_split[0]\n",
    "df_tables[\"Tore_kassiert\"] = goals_split[1]\n",
    "\n",
    "# When teams have the same position on a matchday the column Pl. is NaN\n",
    "# NaN is replaced by the last number preceding the NaN value\n",
    "df_tables.fillna(method='ffill', inplace=True)\n",
    "# convert Pl. column to int\n",
    "df_tables[\"Pl.\"] = df_tables[\"Pl.\"].astype('int64')"
   ]
  },
  {
   "cell_type": "markdown",
   "id": "a5e504a2",
   "metadata": {},
   "source": [
    "### Enriching dataframe"
   ]
  },
  {
   "cell_type": "code",
   "execution_count": null,
   "id": "5efed812",
   "metadata": {},
   "outputs": [],
   "source": [
    "# define variable that contains links for logo of each team\n",
    "# this column is used to display team logo in Tableau\n",
    "links = ['https://upload.wikimedia.org/wikipedia/commons/thumb/e/eb/VfB_Stuttgart_1893_Logo.svg/500px-VfB_Stuttgart_1893_Logo.svg.png',\n",
    "        'https://upload.wikimedia.org/wikipedia/commons/thumb/e/e7/Logo_TSG_Hoffenheim.svg/500px-Logo_TSG_Hoffenheim.svg.png',\n",
    "        'https://upload.wikimedia.org/wikipedia/commons/thumb/6/67/Borussia_Dortmund_logo.svg/500px-Borussia_Dortmund_logo.svg.png',\n",
    "        'https://upload.wikimedia.org/wikipedia/commons/thumb/d/d8/Emblem_1.FC_K%C3%B6ln.svg/500px-Emblem_1.FC_K%C3%B6ln.svg.png',\n",
    "        'https://upload.wikimedia.org/wikipedia/commons/thumb/d/d6/FSV_Mainz_05_Logo.png/768px-FSV_Mainz_05_Logo.png',\n",
    "        'https://upload.wikimedia.org/wikipedia/commons/thumb/f/f3/Logo-VfL-Wolfsburg.svg/500px-Logo-VfL-Wolfsburg.svg.png',\n",
    "        'https://upload.wikimedia.org/wikipedia/commons/thumb/4/44/1._FC_Union_Berlin_Logo.svg/500px-1._FC_Union_Berlin_Logo.svg.png',\n",
    "        'https://upload.wikimedia.org/wikipedia/de/thumb/f/f7/Bayer_Leverkusen_Logo.svg/500px-Bayer_Leverkusen_Logo.svg.png',\n",
    "        'https://upload.wikimedia.org/wikipedia/commons/thumb/8/81/Borussia_M%C3%B6nchengladbach_logo.svg/500px-Borussia_M%C3%B6nchengladbach_logo.svg.png',\n",
    "        'https://upload.wikimedia.org/wikipedia/commons/thumb/1/1f/Logo_FC_Bayern_M%C3%BCnchen_%282002%E2%80%932017%29.svg/500px-Logo_FC_Bayern_M%C3%BCnchen_%282002%E2%80%932017%29.svg.png',\n",
    "        'https://upload.wikimedia.org/wikipedia/commons/thumb/2/26/Arminia-wappen-2021.svg/480px-Arminia-wappen-2021.svg.png',\n",
    "        'https://upload.wikimedia.org/wikipedia/commons/thumb/f/f1/SC_Freiburg_Wappen.svg/500px-SC_Freiburg_Wappen.png',\n",
    "        'https://upload.wikimedia.org/wikipedia/commons/thumb/7/72/VfL_Bochum_logo.svg/500px-VfL_Bochum_logo.png',\n",
    "        'https://vectorportal.com/storage/rasen_ballsport_leipzig2.jpg',\n",
    "        'https://upload.wikimedia.org/wikipedia/de/thumb/3/38/Hertha_BSC_Logo.svg/500px-Hertha_BSC_Logo.svg.png',\n",
    "        'https://upload.wikimedia.org/wikipedia/commons/thumb/0/04/Eintracht_Frankfurt_Logo.svg/500px-Eintracht_Frankfurt_Logo.svg.png',\n",
    "        'https://upload.wikimedia.org/wikipedia/commons/thumb/b/b1/SpVgg_Greuther_F%C3%BCrth_2017.svg/500px-SpVgg_Greuther_F%C3%BCrth_2017.svg.png',\n",
    "        'https://upload.wikimedia.org/wikipedia/de/thumb/b/b5/Logo_FC_Augsburg.svg/500px-Logo_FC_Augsburg.svg.png']"
   ]
  },
  {
   "cell_type": "code",
   "execution_count": null,
   "id": "e1e7d699",
   "metadata": {},
   "outputs": [],
   "source": [
    "# create dictionary that contains logo link for every team\n",
    "iconMapper = dict()\n",
    "for link, team_name in enumerate(df_tables.Team.unique()):\n",
    "    iconMapper[team_name] = links[link]    \n",
    "\n",
    "# add corresponding link to each team\n",
    "orderedLinks = []\n",
    "for team_name in df_tables.Team:\n",
    "    orderedLinks.append(iconMapper[team_name])\n",
    "\n",
    "# add column \"Icons\" to df\n",
    "df_tables['Icons'] = orderedLinks"
   ]
  },
  {
   "cell_type": "markdown",
   "id": "f4c42e53",
   "metadata": {},
   "source": [
    "### Saving data as csv"
   ]
  },
  {
   "cell_type": "code",
   "execution_count": null,
   "id": "cd344499",
   "metadata": {},
   "outputs": [],
   "source": [
    "# define current and target working directory and filename\n",
    "cwd = Path('.').absolute()\n",
    "file_name = 'bundesliga_21_22_with_icons.csv'\n",
    "targetDir = Path(cwd, 'data')"
   ]
  },
  {
   "cell_type": "code",
   "execution_count": null,
   "id": "cf9d8f20",
   "metadata": {},
   "outputs": [],
   "source": [
    "# create target directory\n",
    "targetDir.mkdir(parents=True, exist_ok=True)"
   ]
  },
  {
   "cell_type": "code",
   "execution_count": null,
   "id": "2578e7aa",
   "metadata": {},
   "outputs": [],
   "source": [
    "# write data to csv\n",
    "df_tables.to_csv(Path(targetDir, file_name))  "
   ]
  }
 ],
 "metadata": {
  "kernelspec": {
   "display_name": "Python 3 (ipykernel)",
   "language": "python",
   "name": "python3"
  },
  "language_info": {
   "codemirror_mode": {
    "name": "ipython",
    "version": 3
   },
   "file_extension": ".py",
   "mimetype": "text/x-python",
   "name": "python",
   "nbconvert_exporter": "python",
   "pygments_lexer": "ipython3",
   "version": "3.9.12"
  }
 },
 "nbformat": 4,
 "nbformat_minor": 5
}
